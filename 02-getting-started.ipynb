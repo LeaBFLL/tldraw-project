{
 "cells": [
  {
   "cell_type": "markdown",
   "id": "2d474a3e-274d-4bf8-95f3-2c18179877d9",
   "metadata": {},
   "source": [
    "---\n",
    "title: Getting Started\n",
    "date: 2023-11-30 \n",
    "authors:\n",
    "  - name: Sébastien Boisgérault\n",
    "    email: Sebastien.Boisgerault@minesparis.psl.eu\n",
    "    url: https://github.com/boisgera\n",
    "    affiliations:\n",
    "      - institution: Mines Paris - PSL University\n",
    "        department: Institut des Transformation Numériques (ITN)\n",
    "github: boisgera\n",
    "license: CC-BY-4.0\n",
    "open_access: true\n",
    "---"
   ]
  },
  {
   "cell_type": "markdown",
   "id": "99eb7623-348a-4873-9200-614c9be5bdb6",
   "metadata": {},
   "source": [
    "![tldraw](images/hello-tldraw.png)    "
   ]
  },
  {
   "cell_type": "markdown",
   "id": "f2cbb2bd-92e6-4c23-95b5-7996e1850533",
   "metadata": {},
   "source": [
    "# A Simple Document"
   ]
  },
  {
   "cell_type": "markdown",
   "id": "c95958ae-0e8e-40b3-9a1a-963745eda44e",
   "metadata": {},
   "source": [
    "```{exercise} Create a \"Hello tldraw!\" document\n",
    "\n",
    " 1. Download the folder of this project on your computer. \n",
    "  \n",
    " 2. Create an tldraw document that contains the text \"Hello tldraw!\" and save it on your computer.\n",
    " \n",
    " 3. Rename your tldraw document `hello-tldraw.tldr` and move it into the `docs` subfolder of the project.\n",
    "```"
   ]
  },
  {
   "cell_type": "markdown",
   "id": "f663cb6a-c804-4438-a6bb-7132a7c86332",
   "metadata": {
    "jupyter": {
     "source_hidden": true
    }
   },
   "source": [
    "Tldraw files are (utf-8-encoded) text files and therefore can be easily inspected. \n",
    "\n",
    "```{exercise} What's the format of tldraw documents?\n",
    "\n",
    "  1. Print the content of your \"Hello tldraw!\" document into this notebook.\n",
    "\n",
    "  2. The tldraw document format is a dialect of a general-purpose structured data format. \n",
    "  \n",
    "     Which one is it? (JSON, XML, CSV? something else?)\n",
    "\n",
    "```\n"
   ]
  },
  {
   "cell_type": "code",
   "execution_count": 14,
   "id": "7ca45995-6609-4453-8170-2a68e2e0a43c",
   "metadata": {},
   "outputs": [
    {
     "name": "stdout",
     "output_type": "stream",
     "text": [
      "{\"tldrawFileFormatVersion\":1,\"schema\":{\"schemaVersion\":1,\"storeVersion\":4,\"recordVersions\":{\"asset\":{\"version\":1,\"subTypeKey\":\"type\",\"subTypeVersions\":{\"image\":3,\"video\":3,\"bookmark\":1}},\"camera\":{\"version\":1},\"document\":{\"version\":2},\"instance\":{\"version\":24},\"instance_page_state\":{\"version\":5},\"page\":{\"version\":1},\"shape\":{\"version\":3,\"subTypeKey\":\"type\",\"subTypeVersions\":{\"group\":0,\"text\":1,\"bookmark\":2,\"draw\":1,\"geo\":8,\"note\":5,\"line\":1,\"frame\":0,\"arrow\":3,\"highlight\":0,\"embed\":4,\"image\":3,\"video\":2}},\"instance_presence\":{\"version\":5},\"pointer\":{\"version\":1}}},\"records\":[{\"gridSize\":10,\"name\":\"\",\"meta\":{},\"id\":\"document:document\",\"typeName\":\"document\"},{\"id\":\"pointer:pointer\",\"typeName\":\"pointer\",\"x\":36,\"y\":45,\"lastActivityTimestamp\":1707685343201,\"meta\":{}},{\"meta\":{},\"id\":\"page:page\",\"name\":\"Page 1\",\"index\":\"a1\",\"typeName\":\"page\"},{\"x\":0,\"y\":0,\"z\":1,\"meta\":{},\"id\":\"camera:page:page\",\"typeName\":\"camera\"},{\"editingShapeId\":null,\"croppingShapeId\":null,\"selectedShapeIds\":[],\"hoveredShapeId\":null,\"erasingShapeIds\":[],\"hintingShapeIds\":[],\"focusedGroupId\":null,\"meta\":{},\"id\":\"instance_page_state:page:page\",\"pageId\":\"page:page\",\"typeName\":\"instance_page_state\"},{\"followingUserId\":null,\"opacityForNextShape\":1,\"stylesForNextShape\":{},\"brush\":null,\"scribbles\":[],\"cursor\":{\"type\":\"default\",\"rotation\":0},\"isFocusMode\":false,\"exportBackground\":true,\"isDebugMode\":false,\"isToolLocked\":false,\"screenBounds\":{\"x\":0,\"y\":0,\"w\":1440,\"h\":820},\"insets\":[false,false,false,false],\"zoomBrush\":null,\"isGridMode\":false,\"isPenMode\":false,\"chatMessage\":\"\",\"isChatting\":false,\"highlightedUserIds\":[],\"canMoveCamera\":true,\"isFocused\":true,\"devicePixelRatio\":2,\"isCoarsePointer\":false,\"isHoveringCanvas\":false,\"openMenus\":[\"main menu\",\"main menu menu file\"],\"isChangingStyle\":false,\"isReadonly\":false,\"meta\":{},\"duplicateProps\":null,\"id\":\"instance:instance\",\"currentPageId\":\"page:page\",\"typeName\":\"instance\"},{\"x\":346,\"y\":228,\"rotation\":0,\"isLocked\":false,\"opacity\":1,\"meta\":{},\"id\":\"shape:GcsdAZ9RKS7H3yawn3TKw\",\"type\":\"text\",\"props\":{\"color\":\"black\",\"size\":\"m\",\"w\":615,\"text\":\"Hello tl-draw !\",\"font\":\"draw\",\"align\":\"middle\",\"autoSize\":false,\"scale\":1},\"parentId\":\"page:page\",\"index\":\"a1\",\"typeName\":\"shape\"}]}\n"
     ]
    },
    {
     "data": {
      "text/plain": [
       "\"Ce n'est ni JSOM ni XML ni CSV, c'est un format spécifique. Il n'est pas interchangeable avec ces formats.\""
      ]
     },
     "execution_count": 14,
     "metadata": {},
     "output_type": "execute_result"
    }
   ],
   "source": [
    "1.\n",
    "\n",
    "\n",
    "\n",
    "file = open(\"hello-tldraw.tldr\", 'r')\n",
    "tldraw_content = file.read()\n",
    "print(tldraw_content)\n",
    "\n",
    "\n",
    "2.\n",
    "\n",
    "\"\"\"Ce n'est ni JSOM ni XML ni CSV, c'est un format spécifique. Il n'est pas interchangeable avec ces formats.\"\"\"\n",
    "\n"
   ]
  },
  {
   "cell_type": "markdown",
   "id": "a8f5e1cc-1425-4394-8d73-47640d66d298",
   "metadata": {},
   "source": [
    "\n",
    "```{exercise} Load the document\n",
    ":label: load\n",
    "\n",
    " 1. Find the Python standard library that deals with the file format use by tldraw.\n",
    "\n",
    " 2. Use it to load the tldraw document as a tree-like structure (⚠️ not as a string!).\n",
    "\n",
    " 3. Name this structure `hello`.\n",
    "\n",
    "```"
   ]
  },
  {
   "cell_type": "code",
   "execution_count": null,
   "id": "9ac6ef3e-b60f-48d3-a19f-cd855ef65de5",
   "metadata": {},
   "outputs": [],
   "source": [
    "\"\"\"1\"\"\"\n",
    "\n",
    "\"\"\"2\"\"\"\n",
    "\n",
    "\"\"\"3\"\"\""
   ]
  },
  {
   "cell_type": "markdown",
   "id": "a6ce392d-b8fa-4df2-a5e1-e5c9b81dffc8",
   "metadata": {},
   "source": [
    "# Records & Shapes"
   ]
  },
  {
   "cell_type": "markdown",
   "id": "c30a7788-e59e-42ab-a5da-c43aa1bb0872",
   "metadata": {},
   "source": [
    "```{exercise} Structure\n",
    ":label:\n",
    "\n",
    " 1. Can you locate a list of \"records\" inside `doc`? Name that list `records`.\n",
    "\n",
    " 2. Records all have a type name. Can you list all of them?\n",
    "\n",
    " 3. There should be a single shape among your records. What's it's `type`?\n",
    "\n",
    " 4. Name `hello_text` this record and display it in the notebook\n",
    "\n",
    "```"
   ]
  },
  {
   "cell_type": "code",
   "execution_count": 18,
   "id": "9faa57cc-366c-4c96-b8c2-526f6ae398e5",
   "metadata": {},
   "outputs": [
    {
     "name": "stdout",
     "output_type": "stream",
     "text": [
      "[['{', '\"', 't', 'l', 'd', 'r', 'a', 'w', 'F', 'i', 'l', 'e', 'F', 'o', 'r', 'm', 'a', 't', 'V', 'e', 'r', 's', 'i', 'o', 'n', '\"', ':', '1', ',', '\"', 's', 'c', 'h', 'e', 'm', 'a', '\"', ':', '{', '\"', 's', 'c', 'h', 'e', 'm', 'a', 'V', 'e', 'r', 's', 'i', 'o', 'n', '\"', ':', '1', ',', '\"', 's', 't', 'o', 'r', 'e', 'V', 'e', 'r', 's', 'i', 'o', 'n', '\"', ':', '4', ',', '\"', 'r', 'e', 'c', 'o', 'r', 'd', 'V', 'e', 'r', 's', 'i', 'o', 'n', 's', '\"', ':', '{', '\"', 'a', 's', 's', 'e', 't', '\"', ':', '{', '\"', 'v', 'e', 'r', 's', 'i', 'o', 'n', '\"', ':', '1', ',', '\"', 's', 'u', 'b', 'T', 'y', 'p', 'e', 'K', 'e', 'y', '\"', ':', '\"', 't', 'y', 'p', 'e', '\"', ',', '\"', 's', 'u', 'b', 'T', 'y', 'p', 'e', 'V', 'e', 'r', 's', 'i', 'o', 'n', 's', '\"', ':', '{', '\"', 'i', 'm', 'a', 'g', 'e', '\"', ':', '3', ',', '\"', 'v', 'i', 'd', 'e', 'o', '\"', ':', '3', ',', '\"', 'b', 'o', 'o', 'k', 'm', 'a', 'r', 'k', '\"', ':', '1', '}', '}', ',', '\"', 'c', 'a', 'm', 'e', 'r', 'a', '\"', ':', '{', '\"', 'v', 'e', 'r', 's', 'i', 'o', 'n', '\"', ':', '1', '}', ',', '\"', 'd', 'o', 'c', 'u', 'm', 'e', 'n', 't', '\"', ':', '{', '\"', 'v', 'e', 'r', 's', 'i', 'o', 'n', '\"', ':', '2', '}', ',', '\"', 'i', 'n', 's', 't', 'a', 'n', 'c', 'e', '\"', ':', '{', '\"', 'v', 'e', 'r', 's', 'i', 'o', 'n', '\"', ':', '2', '4', '}', ',', '\"', 'i', 'n', 's', 't', 'a', 'n', 'c', 'e', '_', 'p', 'a', 'g', 'e', '_', 's', 't', 'a', 't', 'e', '\"', ':', '{', '\"', 'v', 'e', 'r', 's', 'i', 'o', 'n', '\"', ':', '5', '}', ',', '\"', 'p', 'a', 'g', 'e', '\"', ':', '{', '\"', 'v', 'e', 'r', 's', 'i', 'o', 'n', '\"', ':', '1', '}', ',', '\"', 's', 'h', 'a', 'p', 'e', '\"', ':', '{', '\"', 'v', 'e', 'r', 's', 'i', 'o', 'n', '\"', ':', '3', ',', '\"', 's', 'u', 'b', 'T', 'y', 'p', 'e', 'K', 'e', 'y', '\"', ':', '\"', 't', 'y', 'p', 'e', '\"', ',', '\"', 's', 'u', 'b', 'T', 'y', 'p', 'e', 'V', 'e', 'r', 's', 'i', 'o', 'n', 's', '\"', ':', '{', '\"', 'g', 'r', 'o', 'u', 'p', '\"', ':', '0', ',', '\"', 't', 'e', 'x', 't', '\"', ':', '1', ',', '\"', 'b', 'o', 'o', 'k', 'm', 'a', 'r', 'k', '\"', ':', '2', ',', '\"', 'd', 'r', 'a', 'w', '\"', ':', '1', ',', '\"', 'g', 'e', 'o', '\"', ':', '8', ',', '\"', 'n', 'o', 't', 'e', '\"', ':', '5', ',', '\"', 'l', 'i', 'n', 'e', '\"', ':', '1', ',', '\"', 'f', 'r', 'a', 'm', 'e', '\"', ':', '0', ',', '\"', 'a', 'r', 'r', 'o', 'w', '\"', ':', '3', ',', '\"', 'h', 'i', 'g', 'h', 'l', 'i', 'g', 'h', 't', '\"', ':', '0', ',', '\"', 'e', 'm', 'b', 'e', 'd', '\"', ':', '4', ',', '\"', 'i', 'm', 'a', 'g', 'e', '\"', ':', '3', ',', '\"', 'v', 'i', 'd', 'e', 'o', '\"', ':', '2', '}', '}', ',', '\"', 'i', 'n', 's', 't', 'a', 'n', 'c', 'e', '_', 'p', 'r', 'e', 's', 'e', 'n', 'c', 'e', '\"', ':', '{', '\"', 'v', 'e', 'r', 's', 'i', 'o', 'n', '\"', ':', '5', '}', ',', '\"', 'p', 'o', 'i', 'n', 't', 'e', 'r', '\"', ':', '{', '\"', 'v', 'e', 'r', 's', 'i', 'o', 'n', '\"', ':', '1', '}', '}', '}', ',', '\"', 'r', 'e', 'c', 'o', 'r', 'd', 's', '\"', ':', '[', '{', '\"', 'g', 'r', 'i', 'd', 'S', 'i', 'z', 'e', '\"', ':', '1', '0', ',', '\"', 'n', 'a', 'm', 'e', '\"', ':', '\"', '\"', ',', '\"', 'm', 'e', 't', 'a', '\"', ':', '{', '}', ',', '\"', 'i', 'd', '\"', ':', '\"', 'd', 'o', 'c', 'u', 'm', 'e', 'n', 't', ':', 'd', 'o', 'c', 'u', 'm', 'e', 'n', 't', '\"', ',', '\"', 't', 'y', 'p', 'e', 'N', 'a', 'm', 'e', '\"', ':', '\"', 'd', 'o', 'c', 'u', 'm', 'e', 'n', 't', '\"', '}', ',', '{', '\"', 'i', 'd', '\"', ':', '\"', 'p', 'o', 'i', 'n', 't', 'e', 'r', ':', 'p', 'o', 'i', 'n', 't', 'e', 'r', '\"', ',', '\"', 't', 'y', 'p', 'e', 'N', 'a', 'm', 'e', '\"', ':', '\"', 'p', 'o', 'i', 'n', 't', 'e', 'r', '\"', ',', '\"', 'x', '\"', ':', '3', '6', ',', '\"', 'y', '\"', ':', '4', '5', ',', '\"', 'l', 'a', 's', 't', 'A', 'c', 't', 'i', 'v', 'i', 't', 'y', 'T', 'i', 'm', 'e', 's', 't', 'a', 'm', 'p', '\"', ':', '1', '7', '0', '7', '6', '8', '5', '3', '4', '3', '2', '0', '1', ',', '\"', 'm', 'e', 't', 'a', '\"', ':', '{', '}', '}', ',', '{', '\"', 'm', 'e', 't', 'a', '\"', ':', '{', '}', ',', '\"', 'i', 'd', '\"', ':', '\"', 'p', 'a', 'g', 'e', ':', 'p', 'a', 'g', 'e', '\"', ',', '\"', 'n', 'a', 'm', 'e', '\"', ':', '\"', 'P', 'a', 'g', 'e', '', '1', '\"', ',', '\"', 'i', 'n', 'd', 'e', 'x', '\"', ':', '\"', 'a', '1', '\"', ',', '\"', 't', 'y', 'p', 'e', 'N', 'a', 'm', 'e', '\"', ':', '\"', 'p', 'a', 'g', 'e', '\"', '}', ',', '{', '\"', 'x', '\"', ':', '0', ',', '\"', 'y', '\"', ':', '0', ',', '\"', 'z', '\"', ':', '1', ',', '\"', 'm', 'e', 't', 'a', '\"', ':', '{', '}', ',', '\"', 'i', 'd', '\"', ':', '\"', 'c', 'a', 'm', 'e', 'r', 'a', ':', 'p', 'a', 'g', 'e', ':', 'p', 'a', 'g', 'e', '\"', ',', '\"', 't', 'y', 'p', 'e', 'N', 'a', 'm', 'e', '\"', ':', '\"', 'c', 'a', 'm', 'e', 'r', 'a', '\"', '}', ',', '{', '\"', 'e', 'd', 'i', 't', 'i', 'n', 'g', 'S', 'h', 'a', 'p', 'e', 'I', 'd', '\"', ':', 'n', 'u', 'l', 'l', ',', '\"', 'c', 'r', 'o', 'p', 'p', 'i', 'n', 'g', 'S', 'h', 'a', 'p', 'e', 'I', 'd', '\"', ':', 'n', 'u', 'l', 'l', ',', '\"', 's', 'e', 'l', 'e', 'c', 't', 'e', 'd', 'S', 'h', 'a', 'p', 'e', 'I', 'd', 's', '\"', ':', '[', ']', ',', '\"', 'h', 'o', 'v', 'e', 'r', 'e', 'd', 'S', 'h', 'a', 'p', 'e', 'I', 'd', '\"', ':', 'n', 'u', 'l', 'l', ',', '\"', 'e', 'r', 'a', 's', 'i', 'n', 'g', 'S', 'h', 'a', 'p', 'e', 'I', 'd', 's', '\"', ':', '[', ']', ',', '\"', 'h', 'i', 'n', 't', 'i', 'n', 'g', 'S', 'h', 'a', 'p', 'e', 'I', 'd', 's', '\"', ':', '[', ']', ',', '\"', 'f', 'o', 'c', 'u', 's', 'e', 'd', 'G', 'r', 'o', 'u', 'p', 'I', 'd', '\"', ':', 'n', 'u', 'l', 'l', ',', '\"', 'm', 'e', 't', 'a', '\"', ':', '{', '}', ',', '\"', 'i', 'd', '\"', ':', '\"', 'i', 'n', 's', 't', 'a', 'n', 'c', 'e', '_', 'p', 'a', 'g', 'e', '_', 's', 't', 'a', 't', 'e', ':', 'p', 'a', 'g', 'e', ':', 'p', 'a', 'g', 'e', '\"', ',', '\"', 'p', 'a', 'g', 'e', 'I', 'd', '\"', ':', '\"', 'p', 'a', 'g', 'e', ':', 'p', 'a', 'g', 'e', '\"', ',', '\"', 't', 'y', 'p', 'e', 'N', 'a', 'm', 'e', '\"', ':', '\"', 'i', 'n', 's', 't', 'a', 'n', 'c', 'e', '_', 'p', 'a', 'g', 'e', '_', 's', 't', 'a', 't', 'e', '\"', '}', ',', '{', '\"', 'f', 'o', 'l', 'l', 'o', 'w', 'i', 'n', 'g', 'U', 's', 'e', 'r', 'I', 'd', '\"', ':', 'n', 'u', 'l', 'l', ',', '\"', 'o', 'p', 'a', 'c', 'i', 't', 'y', 'F', 'o', 'r', 'N', 'e', 'x', 't', 'S', 'h', 'a', 'p', 'e', '\"', ':', '1', ',', '\"', 's', 't', 'y', 'l', 'e', 's', 'F', 'o', 'r', 'N', 'e', 'x', 't', 'S', 'h', 'a', 'p', 'e', '\"', ':', '{', '}', ',', '\"', 'b', 'r', 'u', 's', 'h', '\"', ':', 'n', 'u', 'l', 'l', ',', '\"', 's', 'c', 'r', 'i', 'b', 'b', 'l', 'e', 's', '\"', ':', '[', ']', ',', '\"', 'c', 'u', 'r', 's', 'o', 'r', '\"', ':', '{', '\"', 't', 'y', 'p', 'e', '\"', ':', '\"', 'd', 'e', 'f', 'a', 'u', 'l', 't', '\"', ',', '\"', 'r', 'o', 't', 'a', 't', 'i', 'o', 'n', '\"', ':', '0', '}', ',', '\"', 'i', 's', 'F', 'o', 'c', 'u', 's', 'M', 'o', 'd', 'e', '\"', ':', 'f', 'a', 'l', 's', 'e', ',', '\"', 'e', 'x', 'p', 'o', 'r', 't', 'B', 'a', 'c', 'k', 'g', 'r', 'o', 'u', 'n', 'd', '\"', ':', 't', 'r', 'u', 'e', ',', '\"', 'i', 's', 'D', 'e', 'b', 'u', 'g', 'M', 'o', 'd', 'e', '\"', ':', 'f', 'a', 'l', 's', 'e', ',', '\"', 'i', 's', 'T', 'o', 'o', 'l', 'L', 'o', 'c', 'k', 'e', 'd', '\"', ':', 'f', 'a', 'l', 's', 'e', ',', '\"', 's', 'c', 'r', 'e', 'e', 'n', 'B', 'o', 'u', 'n', 'd', 's', '\"', ':', '{', '\"', 'x', '\"', ':', '0', ',', '\"', 'y', '\"', ':', '0', ',', '\"', 'w', '\"', ':', '1', '4', '4', '0', ',', '\"', 'h', '\"', ':', '8', '2', '0', '}', ',', '\"', 'i', 'n', 's', 'e', 't', 's', '\"', ':', '[', 'f', 'a', 'l', 's', 'e', ',', 'f', 'a', 'l', 's', 'e', ',', 'f', 'a', 'l', 's', 'e', ',', 'f', 'a', 'l', 's', 'e', ']', ',', '\"', 'z', 'o', 'o', 'm', 'B', 'r', 'u', 's', 'h', '\"', ':', 'n', 'u', 'l', 'l', ',', '\"', 'i', 's', 'G', 'r', 'i', 'd', 'M', 'o', 'd', 'e', '\"', ':', 'f', 'a', 'l', 's', 'e', ',', '\"', 'i', 's', 'P', 'e', 'n', 'M', 'o', 'd', 'e', '\"', ':', 'f', 'a', 'l', 's', 'e', ',', '\"', 'c', 'h', 'a', 't', 'M', 'e', 's', 's', 'a', 'g', 'e', '\"', ':', '\"', '\"', ',', '\"', 'i', 's', 'C', 'h', 'a', 't', 't', 'i', 'n', 'g', '\"', ':', 'f', 'a', 'l', 's', 'e', ',', '\"', 'h', 'i', 'g', 'h', 'l', 'i', 'g', 'h', 't', 'e', 'd', 'U', 's', 'e', 'r', 'I', 'd', 's', '\"', ':', '[', ']', ',', '\"', 'c', 'a', 'n', 'M', 'o', 'v', 'e', 'C', 'a', 'm', 'e', 'r', 'a', '\"', ':', 't', 'r', 'u', 'e', ',', '\"', 'i', 's', 'F', 'o', 'c', 'u', 's', 'e', 'd', '\"', ':', 't', 'r', 'u', 'e', ',', '\"', 'd', 'e', 'v', 'i', 'c', 'e', 'P', 'i', 'x', 'e', 'l', 'R', 'a', 't', 'i', 'o', '\"', ':', '2', ',', '\"', 'i', 's', 'C', 'o', 'a', 'r', 's', 'e', 'P', 'o', 'i', 'n', 't', 'e', 'r', '\"', ':', 'f', 'a', 'l', 's', 'e', ',', '\"', 'i', 's', 'H', 'o', 'v', 'e', 'r', 'i', 'n', 'g', 'C', 'a', 'n', 'v', 'a', 's', '\"', ':', 'f', 'a', 'l', 's', 'e', ',', '\"', 'o', 'p', 'e', 'n', 'M', 'e', 'n', 'u', 's', '\"', ':', '[', '\"', 'm', 'a', 'i', 'n', '', 'm', 'e', 'n', 'u', '\"', ',', '\"', 'm', 'a', 'i', 'n', '', 'm', 'e', 'n', 'u', '', 'm', 'e', 'n', 'u', '', 'f', 'i', 'l', 'e', '\"', ']', ',', '\"', 'i', 's', 'C', 'h', 'a', 'n', 'g', 'i', 'n', 'g', 'S', 't', 'y', 'l', 'e', '\"', ':', 'f', 'a', 'l', 's', 'e', ',', '\"', 'i', 's', 'R', 'e', 'a', 'd', 'o', 'n', 'l', 'y', '\"', ':', 'f', 'a', 'l', 's', 'e', ',', '\"', 'm', 'e', 't', 'a', '\"', ':', '{', '}', ',', '\"', 'd', 'u', 'p', 'l', 'i', 'c', 'a', 't', 'e', 'P', 'r', 'o', 'p', 's', '\"', ':', 'n', 'u', 'l', 'l', ',', '\"', 'i', 'd', '\"', ':', '\"', 'i', 'n', 's', 't', 'a', 'n', 'c', 'e', ':', 'i', 'n', 's', 't', 'a', 'n', 'c', 'e', '\"', ',', '\"', 'c', 'u', 'r', 'r', 'e', 'n', 't', 'P', 'a', 'g', 'e', 'I', 'd', '\"', ':', '\"', 'p', 'a', 'g', 'e', ':', 'p', 'a', 'g', 'e', '\"', ',', '\"', 't', 'y', 'p', 'e', 'N', 'a', 'm', 'e', '\"', ':', '\"', 'i', 'n', 's', 't', 'a', 'n', 'c', 'e', '\"', '}', ',', '{', '\"', 'x', '\"', ':', '3', '4', '6', ',', '\"', 'y', '\"', ':', '2', '2', '8', ',', '\"', 'r', 'o', 't', 'a', 't', 'i', 'o', 'n', '\"', ':', '0', ',', '\"', 'i', 's', 'L', 'o', 'c', 'k', 'e', 'd', '\"', ':', 'f', 'a', 'l', 's', 'e', ',', '\"', 'o', 'p', 'a', 'c', 'i', 't', 'y', '\"', ':', '1', ',', '\"', 'm', 'e', 't', 'a', '\"', ':', '{', '}', ',', '\"', 'i', 'd', '\"', ':', '\"', 's', 'h', 'a', 'p', 'e', ':', 'G', 'c', 's', 'd', 'A', 'Z', '9', 'R', 'K', 'S', '7', 'H', '3', 'y', 'a', 'w', 'n', '3', 'T', 'K', 'w', '\"', ',', '\"', 't', 'y', 'p', 'e', '\"', ':', '\"', 't', 'e', 'x', 't', '\"', ',', '\"', 'p', 'r', 'o', 'p', 's', '\"', ':', '{', '\"', 'c', 'o', 'l', 'o', 'r', '\"', ':', '\"', 'b', 'l', 'a', 'c', 'k', '\"', ',', '\"', 's', 'i', 'z', 'e', '\"', ':', '\"', 'm', '\"', ',', '\"', 'w', '\"', ':', '6', '1', '5', ',', '\"', 't', 'e', 'x', 't', '\"', ':', '\"', 'H', 'e', 'l', 'l', 'o', '', 't', 'l', '-', 'd', 'r', 'a', 'w', '', '!', '\"', ',', '\"', 'f', 'o', 'n', 't', '\"', ':', '\"', 'd', 'r', 'a', 'w', '\"', ',', '\"', 'a', 'l', 'i', 'g', 'n', '\"', ':', '\"', 'm', 'i', 'd', 'd', 'l', 'e', '\"', ',', '\"', 'a', 'u', 't', 'o', 'S', 'i', 'z', 'e', '\"', ':', 'f', 'a', 'l', 's', 'e', ',', '\"', 's', 'c', 'a', 'l', 'e', '\"', ':', '1', '}', ',', '\"', 'p', 'a', 'r', 'e', 'n', 't', 'I', 'd', '\"', ':', '\"', 'p', 'a', 'g', 'e', ':', 'p', 'a', 'g', 'e', '\"', ',', '\"', 'i', 'n', 'd', 'e', 'x', '\"', ':', '\"', 'a', '1', '\"', ',', '\"', 't', 'y', 'p', 'e', 'N', 'a', 'm', 'e', '\"', ':', '\"', 's', 'h', 'a', 'p', 'e', '\"', '}', ']', '}']]\n"
     ]
    },
    {
     "ename": "AttributeError",
     "evalue": "'list' object has no attribute 'type'",
     "output_type": "error",
     "traceback": [
      "\u001b[0;31m---------------------------------------------------------------------------\u001b[0m",
      "\u001b[0;31mAttributeError\u001b[0m                            Traceback (most recent call last)",
      "Cell \u001b[0;32mIn[18], line 21\u001b[0m\n\u001b[1;32m     19\u001b[0m types \u001b[38;5;241m=\u001b[39m []\n\u001b[1;32m     20\u001b[0m \u001b[38;5;28;01mfor\u001b[39;00m element \u001b[38;5;129;01min\u001b[39;00m records:\n\u001b[0;32m---> 21\u001b[0m     types\u001b[38;5;241m.\u001b[39mappend(\u001b[43melement\u001b[49m\u001b[38;5;241;43m.\u001b[39;49m\u001b[43mtype\u001b[49m)\n\u001b[1;32m     23\u001b[0m \u001b[38;5;28mprint\u001b[39m(types)\n",
      "\u001b[0;31mAttributeError\u001b[0m: 'list' object has no attribute 'type'"
     ]
    }
   ],
   "source": [
    "\"\"\"1\"\"\"\n",
    "\n",
    "records = []\n",
    "current_record = []\n",
    "\n",
    "for line in tldraw_content:\n",
    "    if line.strip().startswith(\"draw\"):\n",
    "        if current_record:\n",
    "            records.append(current_record)\n",
    "            current_record = []\n",
    "    current_record.append(line.strip())\n",
    "\n",
    "if current_record:\n",
    "    records.append(current_record)\n",
    "\n",
    "print(records)\n",
    "\n",
    "\"\"\"2\"\"\" \n",
    "types = []\n",
    "for element in records:\n",
    "    types.append(element.type)\n",
    "\n",
    "print(types)\n",
    "\n",
    "\"\"\"3\"\"\"\n",
    "liste\n",
    "\n",
    "\"\"\"4\"\"\"\n"
   ]
  },
  {
   "cell_type": "markdown",
   "id": "88a29de9-0fb7-4173-8f5e-29377e5e2147",
   "metadata": {},
   "source": [
    "# Edit the Document"
   ]
  },
  {
   "cell_type": "markdown",
   "id": "0e3880a5-049b-4d0a-a4aa-2678eff6406c",
   "metadata": {},
   "source": [
    "```{exercise} Text Content\n",
    "\n",
    "  1. Locate where in the `hello_text` record the text content is located.\n",
    "  \n",
    "  2. Replace \"Hello tldraw!\" with \"Hello Python!\"\n",
    "\n",
    "  3. Save the corresponding document in the directory `docs` as a `hello-python.tldr` file.\n",
    "\n",
    "  4. Load it in the tldraw editor and check that you end up with something similar to the picture below.\n",
    "\n",
    "```"
   ]
  },
  {
   "cell_type": "markdown",
   "id": "1f95f445-0b47-4cea-a53b-b8d0a8bed59f",
   "metadata": {},
   "source": [
    "![](images/hello-python.png)"
   ]
  }
 ],
 "metadata": {
  "kernelspec": {
   "display_name": "Python 3 (ipykernel)",
   "language": "python",
   "name": "python3"
  },
  "language_info": {
   "codemirror_mode": {
    "name": "ipython",
    "version": 3
   },
   "file_extension": ".py",
   "mimetype": "text/x-python",
   "name": "python",
   "nbconvert_exporter": "python",
   "pygments_lexer": "ipython3",
   "version": "3.11.0"
  }
 },
 "nbformat": 4,
 "nbformat_minor": 5
}
